{
 "cells": [
  {
   "cell_type": "code",
   "execution_count": 1,
   "id": "76967b15-ac1c-49d3-b066-----2",
   "metadata": {},
   "outputs": [
    {
     "name": "stdout",
     "output_type": "stream",
     "text": [
      "Requirement already satisfied: selenium in c:\\users\\anany\\anaconda3\\lib\\site-packages (4.34.2)\n",
      "Requirement already satisfied: urllib3~=2.5.0 in c:\\users\\anany\\anaconda3\\lib\\site-packages (from urllib3[socks]~=2.5.0->selenium) (2.5.0)\n",
      "Requirement already satisfied: trio~=0.30.0 in c:\\users\\anany\\anaconda3\\lib\\site-packages (from selenium) (0.30.0)\n",
      "Requirement already satisfied: trio-websocket~=0.12.2 in c:\\users\\anany\\anaconda3\\lib\\site-packages (from selenium) (0.12.2)\n",
      "Requirement already satisfied: certifi>=2025.6.15 in c:\\users\\anany\\anaconda3\\lib\\site-packages (from selenium) (2025.7.9)\n",
      "Requirement already satisfied: typing_extensions~=4.14.0 in c:\\users\\anany\\anaconda3\\lib\\site-packages (from selenium) (4.14.1)\n",
      "Requirement already satisfied: websocket-client~=1.8.0 in c:\\users\\anany\\anaconda3\\lib\\site-packages (from selenium) (1.8.0)\n",
      "Requirement already satisfied: attrs>=23.2.0 in c:\\users\\anany\\anaconda3\\lib\\site-packages (from trio~=0.30.0->selenium) (25.3.0)\n",
      "Requirement already satisfied: sortedcontainers in c:\\users\\anany\\anaconda3\\lib\\site-packages (from trio~=0.30.0->selenium) (2.4.0)\n",
      "Requirement already satisfied: idna in c:\\users\\anany\\anaconda3\\lib\\site-packages (from trio~=0.30.0->selenium) (3.7)\n",
      "Requirement already satisfied: outcome in c:\\users\\anany\\anaconda3\\lib\\site-packages (from trio~=0.30.0->selenium) (1.3.0.post0)\n",
      "Requirement already satisfied: sniffio>=1.3.0 in c:\\users\\anany\\anaconda3\\lib\\site-packages (from trio~=0.30.0->selenium) (1.3.0)\n",
      "Requirement already satisfied: cffi>=1.14 in c:\\users\\anany\\anaconda3\\lib\\site-packages (from trio~=0.30.0->selenium) (1.17.1)\n",
      "Requirement already satisfied: wsproto>=0.14 in c:\\users\\anany\\anaconda3\\lib\\site-packages (from trio-websocket~=0.12.2->selenium) (1.2.0)\n",
      "Requirement already satisfied: pysocks!=1.5.7,<2.0,>=1.5.6 in c:\\users\\anany\\anaconda3\\lib\\site-packages (from urllib3[socks]~=2.5.0->selenium) (1.7.1)\n",
      "Requirement already satisfied: pycparser in c:\\users\\anany\\anaconda3\\lib\\site-packages (from cffi>=1.14->trio~=0.30.0->selenium) (2.21)\n",
      "Requirement already satisfied: h11<1,>=0.9.0 in c:\\users\\anany\\anaconda3\\lib\\site-packages (from wsproto>=0.14->trio-websocket~=0.12.2->selenium) (0.14.0)\n"
     ]
    }
   ],
   "source": [
    "!pip install selenium"
   ]
  },
  {
   "cell_type": "code",
   "execution_count": 2,
   "id": "a6e25a13-23a7-49f----0ede3",
   "metadata": {},
   "outputs": [],
   "source": [
    "from selenium import webdriver\n",
    "from selenium.webdriver.common.by import By\n",
    "from selenium.webdriver.common.keys import Keys"
   ]
  },
  {
   "cell_type": "code",
   "execution_count": 3,
   "id": "208bfbd7-fdd0---264-11556ad90f1c",
   "metadata": {},
   "outputs": [],
   "source": [
    "driver=webdriver.Chrome()"
   ]
  },
  {
   "cell_type": "code",
   "execution_count": 4,
   "id": "e8d4fa21-084e-4ac7-a1f3-6b6b6833de92",
   "metadata": {},
   "outputs": [],
   "source": [
    "driver.get(\"https://web.whatsapp.com\")"
   ]
  },
  {
   "cell_type": "code",
   "execution_count": 5,
   "id": "9f192f7c-bcca-4e24-9cce-81b69bc94f38",
   "metadata": {},
   "outputs": [
    {
     "ename": "NoSuchElementException",
     "evalue": "Message: no such element: Unable to locate element: {\"method\":\"xpath\",\"selector\":\"//*[@id=\"side\"]/div[1]/div/div[2]/div/div/div[1]/p\"}\n  (Session info: chrome=138.0.7204.169); For documentation on this error, please visit: https://www.selenium.dev/documentation/webdriver/troubleshooting/errors#nosuchelementexception\nStacktrace:\n\tGetHandleVerifier [0x0x7ff70a13e935+77845]\n\tGetHandleVerifier [0x0x7ff70a13e990+77936]\n\t(No symbol) [0x0x7ff709ef9cda]\n\t(No symbol) [0x0x7ff709f506aa]\n\t(No symbol) [0x0x7ff709f5095c]\n\t(No symbol) [0x0x7ff709fa3d07]\n\t(No symbol) [0x0x7ff709f7890f]\n\t(No symbol) [0x0x7ff709fa0b07]\n\t(No symbol) [0x0x7ff709f786a3]\n\t(No symbol) [0x0x7ff709f41791]\n\t(No symbol) [0x0x7ff709f42523]\n\tGetHandleVerifier [0x0x7ff70a41684d+3059501]\n\tGetHandleVerifier [0x0x7ff70a410c0d+3035885]\n\tGetHandleVerifier [0x0x7ff70a430400+3164896]\n\tGetHandleVerifier [0x0x7ff70a158c3e+185118]\n\tGetHandleVerifier [0x0x7ff70a16054f+216111]\n\tGetHandleVerifier [0x0x7ff70a1472e4+113092]\n\tGetHandleVerifier [0x0x7ff70a147499+113529]\n\tGetHandleVerifier [0x0x7ff70a12e298+10616]\n\tBaseThreadInitThunk [0x0x7ff8a95de8d7+23]\n\tRtlUserThreadStart [0x0x7ff8aa2dc34c+44]\n",
     "output_type": "error",
     "traceback": [
      "\u001b[1;31m---------------------------------------------------------------------------\u001b[0m",
      "\u001b[1;31mNoSuchElementException\u001b[0m                    Traceback (most recent call last)",
      "Cell \u001b[1;32mIn[5], line 1\u001b[0m\n\u001b[1;32m----> 1\u001b[0m search_box\u001b[38;5;241m=\u001b[39mdriver\u001b[38;5;241m.\u001b[39mfind_element(By\u001b[38;5;241m.\u001b[39mXPATH,\u001b[38;5;124m'\u001b[39m\u001b[38;5;124m//*[@id=\u001b[39m\u001b[38;5;124m\"\u001b[39m\u001b[38;5;124mside\u001b[39m\u001b[38;5;124m\"\u001b[39m\u001b[38;5;124m]/div[1]/div/div[2]/div/div/div[1]/p\u001b[39m\u001b[38;5;124m'\u001b[39m)\n",
      "File \u001b[1;32m~\\anaconda3\\Lib\\site-packages\\selenium\\webdriver\\remote\\webdriver.py:922\u001b[0m, in \u001b[0;36mWebDriver.find_element\u001b[1;34m(self, by, value)\u001b[0m\n\u001b[0;32m    919\u001b[0m         \u001b[38;5;28;01mraise\u001b[39;00m NoSuchElementException(\u001b[38;5;124mf\u001b[39m\u001b[38;5;124m\"\u001b[39m\u001b[38;5;124mCannot locate relative element with: \u001b[39m\u001b[38;5;132;01m{\u001b[39;00mby\u001b[38;5;241m.\u001b[39mroot\u001b[38;5;132;01m}\u001b[39;00m\u001b[38;5;124m\"\u001b[39m)\n\u001b[0;32m    920\u001b[0m     \u001b[38;5;28;01mreturn\u001b[39;00m elements[\u001b[38;5;241m0\u001b[39m]\n\u001b[1;32m--> 922\u001b[0m \u001b[38;5;28;01mreturn\u001b[39;00m \u001b[38;5;28mself\u001b[39m\u001b[38;5;241m.\u001b[39mexecute(Command\u001b[38;5;241m.\u001b[39mFIND_ELEMENT, {\u001b[38;5;124m\"\u001b[39m\u001b[38;5;124musing\u001b[39m\u001b[38;5;124m\"\u001b[39m: by, \u001b[38;5;124m\"\u001b[39m\u001b[38;5;124mvalue\u001b[39m\u001b[38;5;124m\"\u001b[39m: value})[\u001b[38;5;124m\"\u001b[39m\u001b[38;5;124mvalue\u001b[39m\u001b[38;5;124m\"\u001b[39m]\n",
      "File \u001b[1;32m~\\anaconda3\\Lib\\site-packages\\selenium\\webdriver\\remote\\webdriver.py:454\u001b[0m, in \u001b[0;36mWebDriver.execute\u001b[1;34m(self, driver_command, params)\u001b[0m\n\u001b[0;32m    451\u001b[0m response \u001b[38;5;241m=\u001b[39m cast(RemoteConnection, \u001b[38;5;28mself\u001b[39m\u001b[38;5;241m.\u001b[39mcommand_executor)\u001b[38;5;241m.\u001b[39mexecute(driver_command, params)\n\u001b[0;32m    453\u001b[0m \u001b[38;5;28;01mif\u001b[39;00m response:\n\u001b[1;32m--> 454\u001b[0m     \u001b[38;5;28mself\u001b[39m\u001b[38;5;241m.\u001b[39merror_handler\u001b[38;5;241m.\u001b[39mcheck_response(response)\n\u001b[0;32m    455\u001b[0m     response[\u001b[38;5;124m\"\u001b[39m\u001b[38;5;124mvalue\u001b[39m\u001b[38;5;124m\"\u001b[39m] \u001b[38;5;241m=\u001b[39m \u001b[38;5;28mself\u001b[39m\u001b[38;5;241m.\u001b[39m_unwrap_value(response\u001b[38;5;241m.\u001b[39mget(\u001b[38;5;124m\"\u001b[39m\u001b[38;5;124mvalue\u001b[39m\u001b[38;5;124m\"\u001b[39m, \u001b[38;5;28;01mNone\u001b[39;00m))\n\u001b[0;32m    456\u001b[0m     \u001b[38;5;28;01mreturn\u001b[39;00m response\n",
      "File \u001b[1;32m~\\anaconda3\\Lib\\site-packages\\selenium\\webdriver\\remote\\errorhandler.py:232\u001b[0m, in \u001b[0;36mErrorHandler.check_response\u001b[1;34m(self, response)\u001b[0m\n\u001b[0;32m    230\u001b[0m         alert_text \u001b[38;5;241m=\u001b[39m value[\u001b[38;5;124m\"\u001b[39m\u001b[38;5;124malert\u001b[39m\u001b[38;5;124m\"\u001b[39m]\u001b[38;5;241m.\u001b[39mget(\u001b[38;5;124m\"\u001b[39m\u001b[38;5;124mtext\u001b[39m\u001b[38;5;124m\"\u001b[39m)\n\u001b[0;32m    231\u001b[0m     \u001b[38;5;28;01mraise\u001b[39;00m exception_class(message, screen, stacktrace, alert_text)  \u001b[38;5;66;03m# type: ignore[call-arg]  # mypy is not smart enough here\u001b[39;00m\n\u001b[1;32m--> 232\u001b[0m \u001b[38;5;28;01mraise\u001b[39;00m exception_class(message, screen, stacktrace)\n",
      "\u001b[1;31mNoSuchElementException\u001b[0m: Message: no such element: Unable to locate element: {\"method\":\"xpath\",\"selector\":\"//*[@id=\"side\"]/div[1]/div/div[2]/div/div/div[1]/p\"}\n  (Session info: chrome=138.0.7204.169); For documentation on this error, please visit: https://www.selenium.dev/documentation/webdriver/troubleshooting/errors#nosuchelementexception\nStacktrace:\n\tGetHandleVerifier [0x0x7ff70a13e935+77845]\n\tGetHandleVerifier [0x0x7ff70a13e990+77936]\n\t(No symbol) [0x0x7ff709ef9cda]\n\t(No symbol) [0x0x7ff709f506aa]\n\t(No symbol) [0x0x7ff709f5095c]\n\t(No symbol) [0x0x7ff709fa3d07]\n\t(No symbol) [0x0x7ff709f7890f]\n\t(No symbol) [0x0x7ff709fa0b07]\n\t(No symbol) [0x0x7ff709f786a3]\n\t(No symbol) [0x0x7ff709f41791]\n\t(No symbol) [0x0x7ff709f42523]\n\tGetHandleVerifier [0x0x7ff70a41684d+3059501]\n\tGetHandleVerifier [0x0x7ff70a410c0d+3035885]\n\tGetHandleVerifier [0x0x7ff70a430400+3164896]\n\tGetHandleVerifier [0x0x7ff70a158c3e+185118]\n\tGetHandleVerifier [0x0x7ff70a16054f+216111]\n\tGetHandleVerifier [0x0x7ff70a1472e4+113092]\n\tGetHandleVerifier [0x0x7ff70a147499+113529]\n\tGetHandleVerifier [0x0x7ff70a12e298+10616]\n\tBaseThreadInitThunk [0x0x7ff8a95de8d7+23]\n\tRtlUserThreadStart [0x0x7ff8aa2dc34c+44]\n"
     ]
    }
   ],
   "source": [
    "search_box=driver.find_element(By.XPATH,'//*[@id=\"side\"]/div[1]/div/div[2]/div/div/div[1]/p')"
   ]
  },
  {
   "cell_type": "code",
   "execution_count": null,
   "id": "9f973370-f927-4562-b8f8-0ded0b89c75b",
   "metadata": {},
   "outputs": [],
   "source": [
    "search_box.click()"
   ]
  },
  {
   "cell_type": "code",
   "execution_count": 7,
   "id": "376ac29f-fb35-4000-8265-f13cc36f6d26",
   "metadata": {},
   "outputs": [
    {
     "ename": "NameError",
     "evalue": "name 'search_box' is not defined",
     "output_type": "error",
     "traceback": [
      "\u001b[1;31m---------------------------------------------------------------------------\u001b[0m",
      "\u001b[1;31mNameError\u001b[0m                                 Traceback (most recent call last)",
      "Cell \u001b[1;32mIn[7], line 1\u001b[0m\n\u001b[1;32m----> 1\u001b[0m search_box\u001b[38;5;241m.\u001b[39msend_keys(\u001b[38;5;124m\"\u001b[39m\u001b[38;5;124mMumma\u001b[39m\u001b[38;5;124m\"\u001b[39m)\n",
      "\u001b[1;31mNameError\u001b[0m: name 'search_box' is not defined"
     ]
    }
   ],
   "source": [
    "search_box.send_keys(\"Mumma\")"
   ]
  },
  {
   "cell_type": "code",
   "execution_count": null,
   "id": "b497dcd7-b26d-4a43-bd19-94e4588ec33f",
   "metadata": {},
   "outputs": [],
   "source": [
    "import requests\n",
    "from bs4 import BeautifulSoup\n",
    "\n",
    "URL = \"https://www.flipkart.com/search?q=laptop&otracker=search&otracker1=search&marketplace=FLIPKART&as-show=on&as=off\";\n",
    "r = requests.get(URL)\n",
    "\n",
    "soup = BeautifulSoup(r.content, 'html5lib') # If this line causes an error, run 'pip install html5lib' or install html5lib\n",
    "print(soup.prettify()) "
   ]
  },
  {
   "cell_type": "code",
   "execution_count": null,----47b8-aa5f-85a13bc3bfbd",
   "metadata": {},
   "outputs": [],
   "source": [
    "#!pip install html5lib"
   ]
  },
  {
   "cell_type": "code",
   "execution_count": null,
   "id": "0d6e7220-33a0----bc25-9d999d5e9978",
   "metadata": {},
   "outputs": [],
   "source": [
    "names=soup.find_all(name='div',attrs={'class':'KzDlHZ'})\n",
    "price=soup.find_all(name='div',attrs={'class':'Nx9bqj _4b5DiR'})"
   ]
  },
  {
   "cell_type": "code",
   "execution_count": null,
   "id": "f45f2a98-f6a7-4b90-b542-040a765bb66e",
   "metadata": {},
   "outputs": [],
   "source": [
    "print(price)"
   ]
  },
  {
   "cell_type": "code",
   "execution_count": null,
   "id": "02efdb95-081a-443b-8536-fb2415071bec",
   "metadata": {},
   "outputs": [],
   "source": [
    "for n,p in zip(names,price):\n",
    "    print(f\"{n.text.split('-')[0]}--> {p.text}\")"
   ]
  },
  {
   "cell_type": "code",
   "execution_count": 10,
   "id": "e3e4f17b-e886-405b-b612-691e16178c65",
   "metadata": {},
   "outputs": [
    {
     "name": "stdout",
     "output_type": "stream",
     "text": [
      "1. Baby Shark Dance by Pinkfong Baby Shark - Kids' Songs & Stories-16.10 billion views (Uploaded: June 17, 2016\n",
      "url:https://youtube.com/wiki/Baby_Shark\n",
      "2. Despacito by Luis Fonsi-8.77 billion views (Uploaded: January 12, 2017\n",
      "url:https://youtube.com/wiki/Despacito#Music_video\n",
      "3. Wheels on the Bus by Cocomelon - Nursery Rhymes-7.55 billion views (Uploaded: May 24, 2018\n",
      "url:https://youtube.com/wiki/The_Wheels_on_the_Bus\n",
      "4. [19] by Cocomelon - Nursery Rhymes-7.12 billion views (Uploaded: May 2, 2018\n",
      "url:https://youtube.com#cite_note-Bath_Song-21\n",
      "5. Johny Johny Yes Papa by LooLoo Kids - Nursery Rhymes and Children's Songs-7.06 billion views (Uploaded: October 8, 2016\n",
      "url:https://youtube.com/wiki/Johny_Johny_Yes_Papa#YouTube_videos\n",
      "6. See You Again by Wiz Khalifa-6.68 billion views (Uploaded: April 6, 2015\n",
      "url:https://youtube.com/wiki/See_You_Again#Music_video\n",
      "7. Shape of You by Ed Sheeran-6.47 billion views (Uploaded: January 30, 2017\n",
      "url:https://youtube.com/wiki/Shape_of_You#Music_video\n",
      "8. [29] by ChuChu TV Nursery Rhymes & Kids Songs-6.49 billion views (Uploaded: March 6, 2014\n",
      "url:https://youtube.com#cite_note-Phonics_Song-33\n",
      "9. Gangnam Style by Psy-5.59 billion views (Uploaded: July 15, 2012\n",
      "url:https://youtube.com/wiki/Gangnam_Style_(music_video)\n",
      "10. Uptown Funk by Mark Ronson-5.57 billion views (Uploaded: November 19, 2014\n",
      "url:https://youtube.com/wiki/Uptown_Funk#Music_video\n"
     ]
    }
   ],
   "source": [
    "url=\"https://en.wikipedia.org/wiki/List_of_most-viewed_YouTube_videos\"\n",
    "response = requests.get(url)\n",
    "soup=BeautifulSoup(response.content,\"html.parser\")\n",
    "table=soup.find(\"table\",{\"class\":\"wikitable\"})\n",
    "\n",
    "top_videos=[]\n",
    "\n",
    "rows=table.find_all('tr')[1:11]\n",
    "\n",
    "for row in rows:\n",
    "    \n",
    "    cols=row.find_all(\"td\")\n",
    "    title=cols[0].find(\"a\").get_text(strip=True)\n",
    "    artist=cols[1].get_text(strip=True)\n",
    "    views=cols[2].get_text(strip=True)\n",
    "    upload_date=cols[3].get_text(strip=True)\n",
    "    url=\"https://youtube.com\" + cols[0].find(\"a\")[\"href\"]\n",
    "\n",
    "    top_videos.append((title,artist,views,upload_date,url))\n",
    "for i,video in enumerate(top_videos,start=1):\n",
    "    print(f\"{i}. {video[0]} by {video[1]}-{video[2]} billion views (Uploaded: {video[3]}\")\n",
    "    print(f\"url:{video[4]}\")"
   ]
  },
  {
   "cell_type": "code",
   "execution_count": 15,
   "id": "3a006b70-2415-4c13-8ec2-a965b4052e0c",
   "metadata": {},
   "outputs": [
    {
     "ename": "ModuleNotFoundError",
     "evalue": "No module named 'mysql'",
     "output_type": "error",
     "traceback": [
      "\u001b[1;31m---------------------------------------------------------------------------\u001b[0m",
      "\u001b[1;31mModuleNotFoundError\u001b[0m                       Traceback (most recent call last)",
      "Cell \u001b[1;32mIn[15], line 3\u001b[0m\n\u001b[0;32m      1\u001b[0m \u001b[38;5;28;01mimport\u001b[39;00m \u001b[38;5;21;01mrequests\u001b[39;00m\n\u001b[0;32m      2\u001b[0m \u001b[38;5;28;01mfrom\u001b[39;00m \u001b[38;5;21;01mbs4\u001b[39;00m \u001b[38;5;28;01mimport\u001b[39;00m BeautifulSoup\n\u001b[1;32m----> 3\u001b[0m \u001b[38;5;28;01mimport\u001b[39;00m \u001b[38;5;21;01mmysql\u001b[39;00m\u001b[38;5;21;01m.\u001b[39;00m\u001b[38;5;21;01mconnector\u001b[39;00m\n\u001b[0;32m      4\u001b[0m \u001b[38;5;28;01mfrom\u001b[39;00m \u001b[38;5;21;01mdatetime\u001b[39;00m \u001b[38;5;28;01mimport\u001b[39;00m datetime\n",
      "\u001b[1;31mModuleNotFoundError\u001b[0m: No module named 'mysql'"
     ]
    }
   ],
   "source": [
    "import requests\n",
    "from bs4 import BeautifulSoup\n",
    "import mysql.connector\n",
    "from datetime import datetime"
   ]
  },
  {
   "cell_type": "code",
   "execution_count": 14,
   "id": "b3c7b609-2d09-48ff-bc06-974544d68ba0",
   "metadata": {},
   "outputs": [
    {
     "ename": "ModuleNotFoundError",
     "evalue": "No module named 'mysql'",
     "output_type": "error",
     "traceback": [
      "\u001b[1;31m---------------------------------------------------------------------------\u001b[0m",
      "\u001b[1;31mModuleNotFoundError\u001b[0m                       Traceback (most recent call last)",
      "Cell \u001b[1;32mIn[14], line 2\u001b[0m\n\u001b[0;32m      1\u001b[0m \u001b[38;5;28;01mimport\u001b[39;00m \u001b[38;5;21;01mrequests\u001b[39;00m\n\u001b[1;32m----> 2\u001b[0m \u001b[38;5;28;01mimport\u001b[39;00m \u001b[38;5;21;01mmysql\u001b[39;00m\u001b[38;5;21;01m.\u001b[39;00m\u001b[38;5;21;01mconnector\u001b[39;00m\n\u001b[0;32m      3\u001b[0m \u001b[38;5;28;01mfrom\u001b[39;00m \u001b[38;5;21;01mdatetime\u001b[39;00m \u001b[38;5;28;01mimport\u001b[39;00m datetime\n\u001b[0;32m      6\u001b[0m API_KEY \u001b[38;5;241m=\u001b[39m \u001b[38;5;124m'\u001b[39m\u001b[38;5;124mAIzaSyA5Nq6ltowvVf2vDQ6ATOTAxEb7K2_TbsQ\u001b[39m\u001b[38;5;124m'\u001b[39m\n",
      "\u001b[1;31mModuleNotFoundError\u001b[0m: No module named 'mysql'"
     ]
    }
   ],
   "source": [
    "API_KEY = 'AIzaSyA5Nq6ltowvVf2vDQ6A----b7K2_TbsQ'\n",
    "REGION= 'IN'\n",
    "MAX_RESULT = 10\n",
    "\n",
    "conn=mysql.connector.connect(\n",
    "    host=\"localhost\",\n",
    "    user='root',\n",
    "    passwd=\"\",\n",
    "    database='project1'\n",
    ")\n",
    "\n",
    "cursor = conn.cursor()\n",
    "\n",
    "cursor.execute(\"DELETE FROM yt_trending\")\n",
    "cursor.execute(\"ALTER TABLE yt_trending AUTO_INCREMENT = 1\")\n",
    "conn.commit()\n",
    "\n",
    "\n",
    "url = f\"https://www.googleapis.com/youtube/v3/videos?part=snippet,statistics&chart=mostPopular&regionCode={REGION}&maxResults={MAX_RESULT}&key={API_KEY}\"\n",
    "response = requests.get(url)\n",
    "data = response.json()\n",
    "\n",
    "for item in data.get('items',[]):\n",
    "    video_id = item['id']\n",
    "    title = item['snippet']['title']\n",
    "    yt_channel = item['snippet']['channelTitle']\n",
    "    views = int(item['statistics'].get('viewCount', 0))\n",
    "    published_at = item['snippet']['publishedAt']\n",
    "    published_dt = datetime.strptime(published_at, \"%Y-%m-%dT%H:%M:%SZ\")\n",
    "\n",
    "    # Insert into MySQL\n",
    "    cursor.execute(\"\"\"\n",
    "        INSERT IGNORE INTO yt_trending (video_id, title, yt_channel, views, published_at)\n",
    "        VALUES (%s, %s, %s, %s, %s)\n",
    "    \"\"\", (video_id, title, yt_channel, views, published_dt))\n",
    "\n",
    "conn.commit()\n",
    "cursor.close()\n",
    "conn.close()"
   ]
  },
  {
   "cell_type": "code",
   "execution_count": 13,
   "id": "02a4cbfc-0489-4f21-9ce4-353962e8c1a1",
   "metadata": {},
   "outputs": [
    {
     "name": "stdout",
     "output_type": "stream",
     "text": [
      "Requirement already satisfied: mysql in c:\\users\\anany\\anaconda3\\lib\\site-packages (0.0.3)Note: you may need to restart the kernel to use updated packages.\n",
      "\n",
      "Requirement already satisfied: mysqlclient in c:\\users\\anany\\anaconda3\\lib\\site-packages (from mysql) (2.2.7)\n"
     ]
    }
   ],
   "source": [
    "pip install mysql"
   ]
  },
  {
   "cell_type": "code",
   "execution_count": null,
   "id": "2dffbc26-aadd-4269-b904-6927aa456903",
   "metadata": {},
   "outputs": [],
   "source": []
  }
 ],
 "metadata": {
  "kernelspec": {
   "display_name": "Python 3 (ipykernel)",
   "language": "python",
   "name": "python3"
  },
  "language_info": {
   "codemirror_mode": {
    "name": "ipython",
    "version": 3
   },
   "file_extension": ".py",
   "mimetype": "text/x-python",
   "name": "python",
   "nbconvert_exporter": "python",
   "pygments_lexer": "ipython3",
   "version": "3.12.7"
  }
 },
 "nbformat": 4,
 "nbformat_minor": 5
}
